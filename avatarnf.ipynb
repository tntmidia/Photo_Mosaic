{
  "nbformat": 4,
  "nbformat_minor": 0,
  "metadata": {
    "colab": {
      "name": "Untitled0.ipynb",
      "provenance": [],
      "collapsed_sections": [],
      "authorship_tag": "ABX9TyOnTggG1EGBzqV5A0Y6XZeN",
      "include_colab_link": true
    },
    "kernelspec": {
      "name": "python3",
      "display_name": "Python 3"
    },
    "language_info": {
      "name": "python"
    }
  },
  "cells": [
    {
      "cell_type": "markdown",
      "metadata": {
        "id": "view-in-github",
        "colab_type": "text"
      },
      "source": [
        "<a href=\"https://colab.research.google.com/github/tntmidia/Photo_Mosaic/blob/master/avatarnf.ipynb\" target=\"_parent\"><img src=\"https://colab.research.google.com/assets/colab-badge.svg\" alt=\"Open In Colab\"/></a>"
      ]
    },
    {
      "cell_type": "code",
      "metadata": {
        "id": "3wTZvduc5eGU"
      },
      "source": [
        "from PIL import Image \n",
        "from IPython.display import display \n",
        "import random\n",
        "import json"
      ],
      "execution_count": null,
      "outputs": []
    },
    {
      "cell_type": "code",
      "metadata": {
        "id": "rxQ59mix50He"
      },
      "source": [
        "# Each image is made up a series of traits\n",
        "# The weightings for each trait drive the rarity and add up to 100%\n",
        "\n",
        "background = [\"Blue\", \"Orange\"] \n",
        "background_weights = [30, 70]\n",
        "\n",
        "circle = [\"Blue\", \"Orange\"] \n",
        "circle_weights = [30, 70]\n",
        "\n",
        "square = [\"Blue\",\"Orange\"] \n",
        "square_weights = [30, 70]\n",
        "\n",
        "# Dictionary variable for each trait. \n",
        "# Eech trait corresponds to its file name\n",
        "# Add more shapes and colours as you wish\n",
        "\n",
        "background_files = {\n",
        "    \"Blue\": \"blue\",\n",
        "    \"Orange\": \"orange\",\n",
        "}\n",
        "\n",
        "square_files = {\n",
        "    \"Blue\": \"blue-square\",\n",
        "    \"Orange\": \"orange-square\",     \n",
        "}\n",
        "\n",
        "circle_files = {\n",
        "    \"Blue\": \"blue-circle\",\n",
        "    \"Orange\": \"orange-circle\", \n",
        "}\n"
      ],
      "execution_count": null,
      "outputs": []
    },
    {
      "cell_type": "code",
      "metadata": {
        "id": "PYUlK9KY520a"
      },
      "source": [
        "TOTAL_IMAGES = 8 # Number of random unique images we want to generate ( 2 x 2 x 2 = 8)\n",
        "\n",
        "all_images = [] \n",
        "\n",
        "def create_new_image():\n",
        "\n",
        "    new_image = {} #\n",
        "\n",
        "    # For each trait category, select a random trait based on the weightings \n",
        "    new_image [\"Background\"] = random.choices(background, background_weights)[0]\n",
        "    new_image [\"Circle\"] = random.choices(circle, circle_weights)[0]\n",
        "    new_image [\"Square\"] = random.choices(square, square_weights)[0]\n",
        "\n",
        "    if new_image in all_images:\n",
        "        return create_new_image()\n",
        "    else:\n",
        "        return new_image\n",
        "\n",
        "\n",
        "# Generate the unique combinations based on trait weightings\n",
        "for i in range(TOTAL_IMAGES): \n",
        "\n",
        "    new_trait_image = create_new_image()\n",
        "\n",
        "    all_images.append(new_trait_image)"
      ],
      "execution_count": null,
      "outputs": []
    },
    {
      "cell_type": "code",
      "metadata": {
        "colab": {
          "base_uri": "https://localhost:8080/"
        },
        "id": "HrfexYs-6ORt",
        "outputId": "b594b528-63f9-4f2e-f44e-303b937cf9e2"
      },
      "source": [
        "def all_images_unique(all_images):\n",
        "    seen = list()\n",
        "    return not any(i in seen or seen.append(i) for i in all_images)\n",
        "\n",
        "print(\"Are all images unique?\", all_images_unique(all_images))"
      ],
      "execution_count": null,
      "outputs": [
        {
          "output_type": "stream",
          "name": "stdout",
          "text": [
            "Are all images unique? True\n"
          ]
        }
      ]
    },
    {
      "cell_type": "code",
      "metadata": {
        "id": "zaW1Qk946RNM"
      },
      "source": [
        "i = 0\n",
        "for item in all_images:\n",
        "    item[\"tokenId\"] = i\n",
        "    i = i + 1"
      ],
      "execution_count": null,
      "outputs": []
    },
    {
      "cell_type": "code",
      "metadata": {
        "colab": {
          "base_uri": "https://localhost:8080/"
        },
        "id": "Tul3EaUI6S5d",
        "outputId": "6b1b192e-e882-4d4e-8ec4-c3aea68c4ec6"
      },
      "source": [
        "print(all_images)"
      ],
      "execution_count": null,
      "outputs": [
        {
          "output_type": "stream",
          "name": "stdout",
          "text": [
            "[{'Background': 'Orange', 'Circle': 'Orange', 'Square': 'Orange', 'tokenId': 0}, {'Background': 'Blue', 'Circle': 'Orange', 'Square': 'Blue', 'tokenId': 1}, {'Background': 'Orange', 'Circle': 'Orange', 'Square': 'Blue', 'tokenId': 2}, {'Background': 'Blue', 'Circle': 'Orange', 'Square': 'Orange', 'tokenId': 3}, {'Background': 'Orange', 'Circle': 'Blue', 'Square': 'Blue', 'tokenId': 4}, {'Background': 'Orange', 'Circle': 'Blue', 'Square': 'Orange', 'tokenId': 5}, {'Background': 'Blue', 'Circle': 'Blue', 'Square': 'Orange', 'tokenId': 6}, {'Background': 'Blue', 'Circle': 'Blue', 'Square': 'Blue', 'tokenId': 7}]\n"
          ]
        }
      ]
    },
    {
      "cell_type": "code",
      "metadata": {
        "colab": {
          "base_uri": "https://localhost:8080/"
        },
        "id": "dOnmldVU6VkR",
        "outputId": "74b49b4a-b93d-4906-fd2a-6f27aef5e7a2"
      },
      "source": [
        "background_count = {}\n",
        "for item in background:\n",
        "    background_count[item] = 0\n",
        "\n",
        "circle_count = {}\n",
        "for item in circle:\n",
        "    circle_count[item] = 0\n",
        "\n",
        "square_count = {}\n",
        "for item in square:\n",
        "    square_count[item] = 0\n",
        "\n",
        "for image in all_images:\n",
        "    background_count[image[\"Background\"]] += 1\n",
        "    circle_count[image[\"Circle\"]] += 1\n",
        "    square_count[image[\"Square\"]] += 1\n",
        "\n",
        "print(background_count)\n",
        "print(circle_count)\n",
        "print(square_count)"
      ],
      "execution_count": null,
      "outputs": [
        {
          "output_type": "stream",
          "name": "stdout",
          "text": [
            "{'Blue': 4, 'Orange': 4}\n",
            "{'Blue': 4, 'Orange': 4}\n",
            "{'Blue': 4, 'Orange': 4}\n"
          ]
        }
      ]
    },
    {
      "cell_type": "code",
      "metadata": {
        "colab": {
          "base_uri": "https://localhost:8080/",
          "height": 201
        },
        "id": "GCC59gCF6XrY",
        "outputId": "72df679c-647e-42e8-cbf7-b69469d2bb10"
      },
      "source": [
        "METADATA_FILE_NAME = './metadata/all-traits.json'; \n",
        "with open(METADATA_FILE_NAME, 'w') as outfile:\n",
        "    json.dump(all_images, outfile, indent=4)"
      ],
      "execution_count": null,
      "outputs": [
        {
          "output_type": "error",
          "ename": "FileNotFoundError",
          "evalue": "ignored",
          "traceback": [
            "\u001b[0;31m---------------------------------------------------------------------------\u001b[0m",
            "\u001b[0;31mFileNotFoundError\u001b[0m                         Traceback (most recent call last)",
            "\u001b[0;32m<ipython-input-9-c5c9adf2cf79>\u001b[0m in \u001b[0;36m<module>\u001b[0;34m()\u001b[0m\n\u001b[1;32m      1\u001b[0m \u001b[0mMETADATA_FILE_NAME\u001b[0m \u001b[0;34m=\u001b[0m \u001b[0;34m'./metadata/all-traits.json'\u001b[0m\u001b[0;34m;\u001b[0m\u001b[0;34m\u001b[0m\u001b[0;34m\u001b[0m\u001b[0m\n\u001b[0;32m----> 2\u001b[0;31m \u001b[0;32mwith\u001b[0m \u001b[0mopen\u001b[0m\u001b[0;34m(\u001b[0m\u001b[0mMETADATA_FILE_NAME\u001b[0m\u001b[0;34m,\u001b[0m \u001b[0;34m'w'\u001b[0m\u001b[0;34m)\u001b[0m \u001b[0;32mas\u001b[0m \u001b[0moutfile\u001b[0m\u001b[0;34m:\u001b[0m\u001b[0;34m\u001b[0m\u001b[0;34m\u001b[0m\u001b[0m\n\u001b[0m\u001b[1;32m      3\u001b[0m     \u001b[0mjson\u001b[0m\u001b[0;34m.\u001b[0m\u001b[0mdump\u001b[0m\u001b[0;34m(\u001b[0m\u001b[0mall_images\u001b[0m\u001b[0;34m,\u001b[0m \u001b[0moutfile\u001b[0m\u001b[0;34m,\u001b[0m \u001b[0mindent\u001b[0m\u001b[0;34m=\u001b[0m\u001b[0;36m4\u001b[0m\u001b[0;34m)\u001b[0m\u001b[0;34m\u001b[0m\u001b[0;34m\u001b[0m\u001b[0m\n",
            "\u001b[0;31mFileNotFoundError\u001b[0m: [Errno 2] No such file or directory: './metadata/all-traits.json'"
          ]
        }
      ]
    },
    {
      "cell_type": "code",
      "metadata": {
        "id": "tzC7T5UC6db1"
      },
      "source": [
        "from google.colab import drive\n",
        "drive.mount('/content/drive')"
      ],
      "execution_count": null,
      "outputs": []
    }
  ]
}